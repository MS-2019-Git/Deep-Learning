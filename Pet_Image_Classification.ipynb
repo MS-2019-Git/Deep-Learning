{
  "nbformat": 4,
  "nbformat_minor": 0,
  "metadata": {
    "colab": {
      "name": "Pet_Image_Classification.ipynb",
      "provenance": [],
      "collapsed_sections": [],
      "authorship_tag": "ABX9TyNVzb3B+9tjfHJxh9oi1BBF",
      "include_colab_link": true
    },
    "kernelspec": {
      "name": "python3",
      "display_name": "Python 3"
    }
  },
  "cells": [
    {
      "cell_type": "markdown",
      "metadata": {
        "id": "view-in-github",
        "colab_type": "text"
      },
      "source": [
        "<a href=\"https://colab.research.google.com/github/MS-2019-Git/Deep-Learning/blob/main/Pet_Image_Classification.ipynb\" target=\"_parent\"><img src=\"https://colab.research.google.com/assets/colab-badge.svg\" alt=\"Open In Colab\"/></a>"
      ]
    },
    {
      "cell_type": "code",
      "metadata": {
        "id": "w6abnF2gk4vK",
        "colab": {
          "base_uri": "https://localhost:8080/"
        },
        "outputId": "bf814d22-4da6-47d8-927f-93a9f8105728"
      },
      "source": [
        "from google.colab import drive\n",
        "drive.mount('/content/drive')"
      ],
      "execution_count": 1,
      "outputs": [
        {
          "output_type": "stream",
          "text": [
            "Drive already mounted at /content/drive; to attempt to forcibly remount, call drive.mount(\"/content/drive\", force_remount=True).\n"
          ],
          "name": "stdout"
        }
      ]
    },
    {
      "cell_type": "code",
      "metadata": {
        "id": "bLiSHdcLlL9p",
        "colab": {
          "base_uri": "https://localhost:8080/"
        },
        "outputId": "b2070190-40a0-4a22-d0a8-58980c582d36"
      },
      "source": [
        "import numpy as np\n",
        "import pandas as pd \n",
        "from keras.preprocessing.image import ImageDataGenerator, load_img\n",
        "from keras.utils import to_categorical\n",
        "from sklearn.model_selection import train_test_split\n",
        "import matplotlib.pyplot as plt\n",
        "import random\n",
        "import os\n",
        "print(os.listdir(\"../content/drive/My Drive/Colab Notebooks/A-Simplilearn/Image Classification Project/data/train\"))"
      ],
      "execution_count": 2,
      "outputs": [
        {
          "output_type": "stream",
          "text": [
            "['cats', 'dogs']\n"
          ],
          "name": "stdout"
        }
      ]
    },
    {
      "cell_type": "code",
      "metadata": {
        "id": "YhFCOJAX2kxk"
      },
      "source": [
        "train_dir = '/content/drive/My Drive/Colab Notebooks/A-Simplilearn/Image Classification Project/data/train/'\n",
        "test_dir = '/content/drive/My Drive/Colab Notebooks/A-Simplilearn/Image Classification Project/data/test/'\n",
        "\n",
        "train_cats_dir=os.path.join(train_dir, 'cats')\n",
        "train_dogs_dir=os.path.join(train_dir, 'dogs')\n",
        "\n",
        "\n",
        "test_cats_dir=os.path.join(test_dir, 'cats')\n",
        "test_dogs_dir=os.path.join(test_dir, 'dogs')"
      ],
      "execution_count": 3,
      "outputs": []
    },
    {
      "cell_type": "code",
      "metadata": {
        "id": "f8Eh9ip52so-",
        "colab": {
          "base_uri": "https://localhost:8080/"
        },
        "outputId": "8c898f21-3915-480b-bd4c-e2238a052812"
      },
      "source": [
        "print('total training cat images:', len(os.listdir(train_cats_dir)))\n",
        "print('total training dog images:', len(os.listdir(train_dogs_dir)))\n",
        "print('total training images:', len(os.listdir(train_cats_dir)) + len(os.listdir(train_dogs_dir)))\n",
        "print()\n",
        "\n",
        "print('total test cat images:', len(os.listdir(test_cats_dir)))\n",
        "print('total test dog images:', len(os.listdir(test_dogs_dir)))\n",
        "print('total test images:', len(os.listdir(test_cats_dir)) + len(os.listdir(test_dogs_dir)))\n",
        "print()"
      ],
      "execution_count": 4,
      "outputs": [
        {
          "output_type": "stream",
          "text": [
            "total training cat images: 20\n",
            "total training dog images: 20\n",
            "total training images: 40\n",
            "\n",
            "total test cat images: 10\n",
            "total test dog images: 10\n",
            "total test images: 20\n",
            "\n"
          ],
          "name": "stdout"
        }
      ]
    },
    {
      "cell_type": "markdown",
      "metadata": {
        "id": "RsdxrhL5gK3C"
      },
      "source": [
        "##**Data Augmentation**"
      ]
    },
    {
      "cell_type": "code",
      "metadata": {
        "id": "jXGNIvDRgCnO"
      },
      "source": [
        "from keras.preprocessing.image import ImageDataGenerator\n",
        "\n",
        "datagen = ImageDataGenerator(\n",
        "    rotation_range=40,\n",
        "    width_shift_range=0.2,\n",
        "    height_shift_range=0.2,\n",
        "    shear_range=0.2,\n",
        "    zoom_range=0.2,\n",
        "    horizontal_flip=True,\n",
        "    fill_mode='nearest')"
      ],
      "execution_count": 5,
      "outputs": []
    },
    {
      "cell_type": "markdown",
      "metadata": {
        "id": "s23u9Sy2mhpB"
      },
      "source": [
        "**Prepare Traning Data**"
      ]
    },
    {
      "cell_type": "code",
      "metadata": {
        "id": "FT2UCA3ymXXk",
        "colab": {
          "base_uri": "https://localhost:8080/"
        },
        "outputId": "c27c167d-5a10-4aea-dd8e-bb86f7ba42d5"
      },
      "source": [
        "#from keras.preprocessing.image import ImageDataGenerator\n",
        "\n",
        "# Rescale pixel values from [0, 255] to [0, 1]\n",
        "#train_datagen = ImageDataGenerator(rescale=1./255) \n",
        "\n",
        "train_datagen = ImageDataGenerator(\n",
        "    rescale=1./255,\n",
        "    rotation_range=40,\n",
        "    width_shift_range=0.2,\n",
        "    height_shift_range=0.2,\n",
        "    shear_range=0.2,\n",
        "    zoom_range=0.2,\n",
        "    horizontal_flip=True)\n",
        "\n",
        "test_datagen = ImageDataGenerator(rescale=1./255)\n",
        "\n",
        "# The list of classes will be automatically inferred from the subdirectory names/structure under train_dir\n",
        "train_generator = train_datagen.flow_from_directory(\n",
        "    train_dir,\n",
        "    target_size=(60, 60), # resize all images to 224 x 224\n",
        "    batch_size=10,\n",
        "    class_mode='binary'\n",
        "    ) # because we use binary_crossentropy loss we need binary labels\n",
        "\n",
        "test_generator = test_datagen.flow_from_directory(\n",
        "    test_dir,\n",
        "    target_size=(60, 60), # resize all images to 224 x 224\n",
        "    batch_size=5,\n",
        "    class_mode='binary'\n",
        "    ) # because we use binary_crossentropy loss we need binary labels    \n",
        "\n"
      ],
      "execution_count": 6,
      "outputs": [
        {
          "output_type": "stream",
          "text": [
            "Found 40 images belonging to 2 classes.\n",
            "Found 20 images belonging to 2 classes.\n"
          ],
          "name": "stdout"
        }
      ]
    },
    {
      "cell_type": "code",
      "metadata": {
        "id": "fx_i2vgll0Eo",
        "colab": {
          "base_uri": "https://localhost:8080/"
        },
        "outputId": "80a819de-15ce-4cd9-cd10-4bafc78ed553"
      },
      "source": [
        "for data_batch, labels_batch in train_generator:\n",
        "    print ('data batch shape:', data_batch.shape)\n",
        "    print ('labels batch shape:', labels_batch.shape)\n",
        "    break"
      ],
      "execution_count": 7,
      "outputs": [
        {
          "output_type": "stream",
          "text": [
            "data batch shape: (10, 60, 60, 3)\n",
            "labels batch shape: (10,)\n"
          ],
          "name": "stdout"
        }
      ]
    },
    {
      "cell_type": "markdown",
      "metadata": {
        "id": "uvS-xfinn8PF"
      },
      "source": [
        "##**Build the Model**\n"
      ]
    },
    {
      "cell_type": "code",
      "metadata": {
        "id": "oIJDUt7nn_d_"
      },
      "source": [
        "from keras import layers, models, optimizers\n",
        "\n",
        "model = models.Sequential()\n",
        "model.add(layers.Conv2D(32, (3, 3), activation='relu', input_shape=(60, 60, 3)))\n",
        "model.add(layers.MaxPool2D(2, 2))\n",
        "model.add(layers.Conv2D(64, (3, 3), activation='relu'))\n",
        "model.add(layers.MaxPool2D(2, 2))\n",
        "#model.add(layers.Conv2D(128, (3, 3), activation='relu'))\n",
        "#model.add(layers.MaxPool2D(2, 2))\n",
        "#model.add(layers.Conv2D(128, (3, 3), activation='relu'))\n",
        "#model.add(layers.MaxPool2D(2, 2))\n",
        "model.add(layers.Flatten())\n",
        "model.add(layers.Dense(32, activation='relu'))\n",
        "model.add(layers.Dropout(0.5)) # Note the change that we added dropout here\n",
        "model.add(layers.Dense(1, activation='sigmoid'))\n",
        "\n",
        "model.compile(loss='binary_crossentropy',optimizer='adam',metrics=['accuracy'])"
      ],
      "execution_count": 13,
      "outputs": []
    },
    {
      "cell_type": "code",
      "metadata": {
        "id": "yi3oxlioL7KX",
        "colab": {
          "base_uri": "https://localhost:8080/"
        },
        "outputId": "cc428b1b-c707-4565-b54b-e6eb9a7694e5"
      },
      "source": [
        "model.summary()"
      ],
      "execution_count": 14,
      "outputs": [
        {
          "output_type": "stream",
          "text": [
            "Model: \"sequential_1\"\n",
            "_________________________________________________________________\n",
            "Layer (type)                 Output Shape              Param #   \n",
            "=================================================================\n",
            "conv2d_2 (Conv2D)            (None, 58, 58, 32)        896       \n",
            "_________________________________________________________________\n",
            "max_pooling2d_2 (MaxPooling2 (None, 29, 29, 32)        0         \n",
            "_________________________________________________________________\n",
            "conv2d_3 (Conv2D)            (None, 27, 27, 64)        18496     \n",
            "_________________________________________________________________\n",
            "max_pooling2d_3 (MaxPooling2 (None, 13, 13, 64)        0         \n",
            "_________________________________________________________________\n",
            "flatten_1 (Flatten)          (None, 10816)             0         \n",
            "_________________________________________________________________\n",
            "dense_2 (Dense)              (None, 32)                346144    \n",
            "_________________________________________________________________\n",
            "dropout_1 (Dropout)          (None, 32)                0         \n",
            "_________________________________________________________________\n",
            "dense_3 (Dense)              (None, 1)                 33        \n",
            "=================================================================\n",
            "Total params: 365,569\n",
            "Trainable params: 365,569\n",
            "Non-trainable params: 0\n",
            "_________________________________________________________________\n"
          ],
          "name": "stdout"
        }
      ]
    },
    {
      "cell_type": "code",
      "metadata": {
        "id": "XZzObDFoob0v",
        "colab": {
          "base_uri": "https://localhost:8080/"
        },
        "outputId": "65024abe-2348-497e-d11d-3130bdd356d4"
      },
      "source": [
        "history = model.fit_generator(\n",
        "    train_generator,\n",
        "    #steps_per_epoch=4, # 10 batches in the generator, so it takes 4 batches to get to 40 images\n",
        "    epochs=100,\n",
        "    validation_data=test_generator, # we will use validation and test interchangebably\n",
        "    #validation_steps=5\n",
        "    ) "
      ],
      "execution_count": 26,
      "outputs": [
        {
          "output_type": "stream",
          "text": [
            "Epoch 1/100\n",
            "4/4 [==============================] - 0s 117ms/step - loss: 0.2613 - accuracy: 0.9000 - val_loss: 1.4649 - val_accuracy: 0.6500\n",
            "Epoch 2/100\n",
            "4/4 [==============================] - 0s 101ms/step - loss: 0.2782 - accuracy: 0.9250 - val_loss: 1.4908 - val_accuracy: 0.6500\n",
            "Epoch 3/100\n",
            "4/4 [==============================] - 0s 98ms/step - loss: 0.2860 - accuracy: 0.9000 - val_loss: 1.4151 - val_accuracy: 0.7000\n",
            "Epoch 4/100\n",
            "4/4 [==============================] - 0s 103ms/step - loss: 0.1523 - accuracy: 0.9500 - val_loss: 1.4283 - val_accuracy: 0.7500\n",
            "Epoch 5/100\n",
            "4/4 [==============================] - 0s 102ms/step - loss: 0.2063 - accuracy: 0.9250 - val_loss: 1.1151 - val_accuracy: 0.7000\n",
            "Epoch 6/100\n",
            "4/4 [==============================] - 0s 106ms/step - loss: 0.1420 - accuracy: 0.9250 - val_loss: 1.8932 - val_accuracy: 0.7000\n",
            "Epoch 7/100\n",
            "4/4 [==============================] - 0s 108ms/step - loss: 0.3248 - accuracy: 0.8750 - val_loss: 1.2349 - val_accuracy: 0.7500\n",
            "Epoch 8/100\n",
            "4/4 [==============================] - 0s 103ms/step - loss: 0.0837 - accuracy: 0.9750 - val_loss: 1.5120 - val_accuracy: 0.6000\n",
            "Epoch 9/100\n",
            "4/4 [==============================] - 0s 103ms/step - loss: 0.1841 - accuracy: 0.9250 - val_loss: 1.5553 - val_accuracy: 0.7500\n",
            "Epoch 10/100\n",
            "4/4 [==============================] - 0s 108ms/step - loss: 0.2660 - accuracy: 0.9250 - val_loss: 1.4965 - val_accuracy: 0.7500\n",
            "Epoch 11/100\n",
            "4/4 [==============================] - 0s 111ms/step - loss: 0.1575 - accuracy: 0.9250 - val_loss: 1.4725 - val_accuracy: 0.7500\n",
            "Epoch 12/100\n",
            "4/4 [==============================] - 0s 105ms/step - loss: 0.1155 - accuracy: 0.9750 - val_loss: 1.5905 - val_accuracy: 0.7000\n",
            "Epoch 13/100\n",
            "4/4 [==============================] - 0s 101ms/step - loss: 0.1947 - accuracy: 0.9500 - val_loss: 1.4067 - val_accuracy: 0.7500\n",
            "Epoch 14/100\n",
            "4/4 [==============================] - 0s 106ms/step - loss: 0.2122 - accuracy: 0.8750 - val_loss: 1.3029 - val_accuracy: 0.7000\n",
            "Epoch 15/100\n",
            "4/4 [==============================] - 0s 98ms/step - loss: 0.2255 - accuracy: 0.9000 - val_loss: 1.1972 - val_accuracy: 0.7500\n",
            "Epoch 16/100\n",
            "4/4 [==============================] - 0s 103ms/step - loss: 0.2353 - accuracy: 0.9000 - val_loss: 1.1417 - val_accuracy: 0.8500\n",
            "Epoch 17/100\n",
            "4/4 [==============================] - 0s 99ms/step - loss: 0.2201 - accuracy: 0.8750 - val_loss: 1.2566 - val_accuracy: 0.7500\n",
            "Epoch 18/100\n",
            "4/4 [==============================] - 0s 112ms/step - loss: 0.1243 - accuracy: 0.9000 - val_loss: 1.3097 - val_accuracy: 0.7000\n",
            "Epoch 19/100\n",
            "4/4 [==============================] - 0s 109ms/step - loss: 0.0995 - accuracy: 0.9500 - val_loss: 1.4553 - val_accuracy: 0.7500\n",
            "Epoch 20/100\n",
            "4/4 [==============================] - 0s 99ms/step - loss: 0.1307 - accuracy: 0.9500 - val_loss: 1.5522 - val_accuracy: 0.7500\n",
            "Epoch 21/100\n",
            "4/4 [==============================] - 0s 99ms/step - loss: 0.1402 - accuracy: 0.9750 - val_loss: 1.6607 - val_accuracy: 0.6500\n",
            "Epoch 22/100\n",
            "4/4 [==============================] - 0s 106ms/step - loss: 0.1138 - accuracy: 0.9500 - val_loss: 1.5580 - val_accuracy: 0.7000\n",
            "Epoch 23/100\n",
            "4/4 [==============================] - 0s 109ms/step - loss: 0.1155 - accuracy: 0.9500 - val_loss: 1.4869 - val_accuracy: 0.8000\n",
            "Epoch 24/100\n",
            "4/4 [==============================] - 0s 99ms/step - loss: 0.1312 - accuracy: 0.9500 - val_loss: 1.4408 - val_accuracy: 0.8500\n",
            "Epoch 25/100\n",
            "4/4 [==============================] - 0s 101ms/step - loss: 0.1250 - accuracy: 0.9750 - val_loss: 1.3743 - val_accuracy: 0.8000\n",
            "Epoch 26/100\n",
            "4/4 [==============================] - 0s 96ms/step - loss: 0.1420 - accuracy: 0.9250 - val_loss: 1.4948 - val_accuracy: 0.7500\n",
            "Epoch 27/100\n",
            "4/4 [==============================] - 0s 107ms/step - loss: 0.2670 - accuracy: 0.8750 - val_loss: 1.5120 - val_accuracy: 0.7500\n",
            "Epoch 28/100\n",
            "4/4 [==============================] - 0s 100ms/step - loss: 0.2084 - accuracy: 0.8500 - val_loss: 1.9268 - val_accuracy: 0.7000\n",
            "Epoch 29/100\n",
            "4/4 [==============================] - 0s 105ms/step - loss: 0.2414 - accuracy: 0.9000 - val_loss: 1.6374 - val_accuracy: 0.7500\n",
            "Epoch 30/100\n",
            "4/4 [==============================] - 0s 105ms/step - loss: 0.1126 - accuracy: 0.9750 - val_loss: 1.4686 - val_accuracy: 0.7500\n",
            "Epoch 31/100\n",
            "4/4 [==============================] - 0s 104ms/step - loss: 0.1419 - accuracy: 0.9750 - val_loss: 1.3062 - val_accuracy: 0.8000\n",
            "Epoch 32/100\n",
            "4/4 [==============================] - 0s 103ms/step - loss: 0.1992 - accuracy: 0.9250 - val_loss: 1.2821 - val_accuracy: 0.8000\n",
            "Epoch 33/100\n",
            "4/4 [==============================] - 0s 99ms/step - loss: 0.1160 - accuracy: 0.9500 - val_loss: 1.3422 - val_accuracy: 0.7000\n",
            "Epoch 34/100\n",
            "4/4 [==============================] - 0s 111ms/step - loss: 0.0836 - accuracy: 0.9750 - val_loss: 1.3467 - val_accuracy: 0.7000\n",
            "Epoch 35/100\n",
            "4/4 [==============================] - 0s 110ms/step - loss: 0.1201 - accuracy: 0.9250 - val_loss: 1.3264 - val_accuracy: 0.7000\n",
            "Epoch 36/100\n",
            "4/4 [==============================] - 0s 103ms/step - loss: 0.4143 - accuracy: 0.9000 - val_loss: 1.5310 - val_accuracy: 0.7000\n",
            "Epoch 37/100\n",
            "4/4 [==============================] - 0s 110ms/step - loss: 0.3294 - accuracy: 0.8250 - val_loss: 1.3109 - val_accuracy: 0.6500\n",
            "Epoch 38/100\n",
            "4/4 [==============================] - 0s 107ms/step - loss: 0.2506 - accuracy: 0.9250 - val_loss: 1.5591 - val_accuracy: 0.6500\n",
            "Epoch 39/100\n",
            "4/4 [==============================] - 0s 104ms/step - loss: 0.1076 - accuracy: 0.9750 - val_loss: 1.2455 - val_accuracy: 0.8000\n",
            "Epoch 40/100\n",
            "4/4 [==============================] - 0s 100ms/step - loss: 0.1271 - accuracy: 0.9500 - val_loss: 1.1939 - val_accuracy: 0.8000\n",
            "Epoch 41/100\n",
            "4/4 [==============================] - 0s 106ms/step - loss: 0.1784 - accuracy: 0.9250 - val_loss: 1.2063 - val_accuracy: 0.8000\n",
            "Epoch 42/100\n",
            "4/4 [==============================] - 0s 111ms/step - loss: 0.1505 - accuracy: 0.9750 - val_loss: 1.2920 - val_accuracy: 0.7000\n",
            "Epoch 43/100\n",
            "4/4 [==============================] - 0s 106ms/step - loss: 0.1989 - accuracy: 0.9250 - val_loss: 1.2911 - val_accuracy: 0.8000\n",
            "Epoch 44/100\n",
            "4/4 [==============================] - 0s 114ms/step - loss: 0.2677 - accuracy: 0.8750 - val_loss: 1.2381 - val_accuracy: 0.7500\n",
            "Epoch 45/100\n",
            "4/4 [==============================] - 0s 102ms/step - loss: 0.0982 - accuracy: 0.9750 - val_loss: 1.2727 - val_accuracy: 0.7000\n",
            "Epoch 46/100\n",
            "4/4 [==============================] - 0s 109ms/step - loss: 0.1453 - accuracy: 0.9500 - val_loss: 1.4239 - val_accuracy: 0.8000\n",
            "Epoch 47/100\n",
            "4/4 [==============================] - 0s 109ms/step - loss: 0.2714 - accuracy: 0.9250 - val_loss: 1.4894 - val_accuracy: 0.7500\n",
            "Epoch 48/100\n",
            "4/4 [==============================] - 0s 103ms/step - loss: 0.2130 - accuracy: 0.9500 - val_loss: 1.6821 - val_accuracy: 0.8000\n",
            "Epoch 49/100\n",
            "4/4 [==============================] - 0s 116ms/step - loss: 0.1892 - accuracy: 0.9500 - val_loss: 1.5659 - val_accuracy: 0.7500\n",
            "Epoch 50/100\n",
            "4/4 [==============================] - 0s 100ms/step - loss: 0.1799 - accuracy: 0.9500 - val_loss: 1.5250 - val_accuracy: 0.7500\n",
            "Epoch 51/100\n",
            "4/4 [==============================] - 0s 109ms/step - loss: 0.1640 - accuracy: 0.9500 - val_loss: 1.4670 - val_accuracy: 0.7500\n",
            "Epoch 52/100\n",
            "4/4 [==============================] - 0s 102ms/step - loss: 0.2960 - accuracy: 0.8500 - val_loss: 1.4529 - val_accuracy: 0.8000\n",
            "Epoch 53/100\n",
            "4/4 [==============================] - 0s 111ms/step - loss: 0.2067 - accuracy: 0.9250 - val_loss: 1.5390 - val_accuracy: 0.7500\n",
            "Epoch 54/100\n",
            "4/4 [==============================] - 0s 108ms/step - loss: 0.1751 - accuracy: 0.9250 - val_loss: 1.5936 - val_accuracy: 0.8000\n",
            "Epoch 55/100\n",
            "4/4 [==============================] - 0s 104ms/step - loss: 0.0962 - accuracy: 0.9750 - val_loss: 1.7798 - val_accuracy: 0.8000\n",
            "Epoch 56/100\n",
            "4/4 [==============================] - 0s 106ms/step - loss: 0.1417 - accuracy: 0.9250 - val_loss: 1.4019 - val_accuracy: 0.7500\n",
            "Epoch 57/100\n",
            "4/4 [==============================] - 0s 101ms/step - loss: 0.0323 - accuracy: 1.0000 - val_loss: 1.2628 - val_accuracy: 0.8000\n",
            "Epoch 58/100\n",
            "4/4 [==============================] - 0s 102ms/step - loss: 0.1346 - accuracy: 0.9000 - val_loss: 1.3513 - val_accuracy: 0.8000\n",
            "Epoch 59/100\n",
            "4/4 [==============================] - 0s 108ms/step - loss: 0.1156 - accuracy: 0.9750 - val_loss: 1.2932 - val_accuracy: 0.7000\n",
            "Epoch 60/100\n",
            "4/4 [==============================] - 0s 103ms/step - loss: 0.1637 - accuracy: 0.9750 - val_loss: 1.4646 - val_accuracy: 0.7500\n",
            "Epoch 61/100\n",
            "4/4 [==============================] - 0s 108ms/step - loss: 0.1402 - accuracy: 0.9250 - val_loss: 1.6314 - val_accuracy: 0.7500\n",
            "Epoch 62/100\n",
            "4/4 [==============================] - 0s 105ms/step - loss: 0.4431 - accuracy: 0.8750 - val_loss: 1.8329 - val_accuracy: 0.7000\n",
            "Epoch 63/100\n",
            "4/4 [==============================] - 0s 105ms/step - loss: 0.1813 - accuracy: 0.9750 - val_loss: 0.9997 - val_accuracy: 0.8500\n",
            "Epoch 64/100\n",
            "4/4 [==============================] - 0s 119ms/step - loss: 0.2108 - accuracy: 0.9000 - val_loss: 0.9640 - val_accuracy: 0.8000\n",
            "Epoch 65/100\n",
            "4/4 [==============================] - 0s 104ms/step - loss: 0.2116 - accuracy: 0.8750 - val_loss: 0.9750 - val_accuracy: 0.7000\n",
            "Epoch 66/100\n",
            "4/4 [==============================] - 0s 106ms/step - loss: 0.2124 - accuracy: 0.9250 - val_loss: 1.1815 - val_accuracy: 0.7000\n",
            "Epoch 67/100\n",
            "4/4 [==============================] - 0s 105ms/step - loss: 0.2896 - accuracy: 0.8750 - val_loss: 1.1730 - val_accuracy: 0.7000\n",
            "Epoch 68/100\n",
            "4/4 [==============================] - 0s 111ms/step - loss: 0.1587 - accuracy: 0.9750 - val_loss: 1.2094 - val_accuracy: 0.7000\n",
            "Epoch 69/100\n",
            "4/4 [==============================] - 0s 105ms/step - loss: 0.1574 - accuracy: 0.9500 - val_loss: 1.2983 - val_accuracy: 0.7000\n",
            "Epoch 70/100\n",
            "4/4 [==============================] - 0s 114ms/step - loss: 0.3955 - accuracy: 0.9000 - val_loss: 1.5567 - val_accuracy: 0.7000\n",
            "Epoch 71/100\n",
            "4/4 [==============================] - 0s 116ms/step - loss: 0.1290 - accuracy: 0.9500 - val_loss: 1.6258 - val_accuracy: 0.7500\n",
            "Epoch 72/100\n",
            "4/4 [==============================] - 0s 106ms/step - loss: 0.1732 - accuracy: 0.8750 - val_loss: 1.4043 - val_accuracy: 0.7500\n",
            "Epoch 73/100\n",
            "4/4 [==============================] - 0s 107ms/step - loss: 0.2744 - accuracy: 0.8500 - val_loss: 1.2769 - val_accuracy: 0.7500\n",
            "Epoch 74/100\n",
            "4/4 [==============================] - 0s 106ms/step - loss: 0.3503 - accuracy: 0.9000 - val_loss: 1.2054 - val_accuracy: 0.8000\n",
            "Epoch 75/100\n",
            "4/4 [==============================] - 0s 106ms/step - loss: 0.2816 - accuracy: 0.9250 - val_loss: 1.2980 - val_accuracy: 0.7500\n",
            "Epoch 76/100\n",
            "4/4 [==============================] - 0s 100ms/step - loss: 0.1463 - accuracy: 0.9750 - val_loss: 1.4263 - val_accuracy: 0.7500\n",
            "Epoch 77/100\n",
            "4/4 [==============================] - 0s 101ms/step - loss: 0.1870 - accuracy: 0.9250 - val_loss: 1.4575 - val_accuracy: 0.7000\n",
            "Epoch 78/100\n",
            "4/4 [==============================] - 0s 111ms/step - loss: 0.1531 - accuracy: 0.9500 - val_loss: 1.5492 - val_accuracy: 0.7000\n",
            "Epoch 79/100\n",
            "4/4 [==============================] - 0s 104ms/step - loss: 0.2002 - accuracy: 0.9750 - val_loss: 1.6696 - val_accuracy: 0.6500\n",
            "Epoch 80/100\n",
            "4/4 [==============================] - 0s 109ms/step - loss: 0.1807 - accuracy: 0.9500 - val_loss: 1.6489 - val_accuracy: 0.7000\n",
            "Epoch 81/100\n",
            "4/4 [==============================] - 0s 105ms/step - loss: 0.2326 - accuracy: 0.9000 - val_loss: 1.6514 - val_accuracy: 0.7000\n",
            "Epoch 82/100\n",
            "4/4 [==============================] - 0s 108ms/step - loss: 0.1939 - accuracy: 0.9000 - val_loss: 1.5663 - val_accuracy: 0.6500\n",
            "Epoch 83/100\n",
            "4/4 [==============================] - 0s 108ms/step - loss: 0.2121 - accuracy: 0.9000 - val_loss: 1.4557 - val_accuracy: 0.7000\n",
            "Epoch 84/100\n",
            "4/4 [==============================] - 0s 101ms/step - loss: 0.2655 - accuracy: 0.9000 - val_loss: 1.4256 - val_accuracy: 0.7000\n",
            "Epoch 85/100\n",
            "4/4 [==============================] - 0s 116ms/step - loss: 0.1592 - accuracy: 0.9000 - val_loss: 1.5323 - val_accuracy: 0.7500\n",
            "Epoch 86/100\n",
            "4/4 [==============================] - 0s 107ms/step - loss: 0.2017 - accuracy: 0.9500 - val_loss: 1.6955 - val_accuracy: 0.6500\n",
            "Epoch 87/100\n",
            "4/4 [==============================] - 0s 111ms/step - loss: 0.1542 - accuracy: 0.9500 - val_loss: 1.9884 - val_accuracy: 0.7500\n",
            "Epoch 88/100\n",
            "4/4 [==============================] - 0s 103ms/step - loss: 0.2272 - accuracy: 0.9000 - val_loss: 1.9585 - val_accuracy: 0.7500\n",
            "Epoch 89/100\n",
            "4/4 [==============================] - 0s 98ms/step - loss: 0.1160 - accuracy: 0.9500 - val_loss: 1.4980 - val_accuracy: 0.7000\n",
            "Epoch 90/100\n",
            "4/4 [==============================] - 0s 109ms/step - loss: 0.1421 - accuracy: 0.9250 - val_loss: 1.2203 - val_accuracy: 0.7000\n",
            "Epoch 91/100\n",
            "4/4 [==============================] - 0s 106ms/step - loss: 0.1882 - accuracy: 0.9500 - val_loss: 1.0593 - val_accuracy: 0.8000\n",
            "Epoch 92/100\n",
            "4/4 [==============================] - 0s 107ms/step - loss: 0.1877 - accuracy: 0.8750 - val_loss: 1.2573 - val_accuracy: 0.7000\n",
            "Epoch 93/100\n",
            "4/4 [==============================] - 0s 104ms/step - loss: 0.0682 - accuracy: 1.0000 - val_loss: 1.3721 - val_accuracy: 0.7500\n",
            "Epoch 94/100\n",
            "4/4 [==============================] - 0s 106ms/step - loss: 0.0804 - accuracy: 0.9750 - val_loss: 1.2807 - val_accuracy: 0.7000\n",
            "Epoch 95/100\n",
            "4/4 [==============================] - 0s 119ms/step - loss: 0.1490 - accuracy: 0.9750 - val_loss: 1.3959 - val_accuracy: 0.7500\n",
            "Epoch 96/100\n",
            "4/4 [==============================] - 0s 107ms/step - loss: 0.1640 - accuracy: 0.9250 - val_loss: 1.9000 - val_accuracy: 0.7000\n",
            "Epoch 97/100\n",
            "4/4 [==============================] - 0s 111ms/step - loss: 0.0965 - accuracy: 0.9750 - val_loss: 1.7410 - val_accuracy: 0.7000\n",
            "Epoch 98/100\n",
            "4/4 [==============================] - 0s 110ms/step - loss: 0.1907 - accuracy: 0.9250 - val_loss: 1.6009 - val_accuracy: 0.7000\n",
            "Epoch 99/100\n",
            "4/4 [==============================] - 0s 108ms/step - loss: 0.2554 - accuracy: 0.8750 - val_loss: 1.4909 - val_accuracy: 0.7500\n",
            "Epoch 100/100\n",
            "4/4 [==============================] - 0s 103ms/step - loss: 0.2137 - accuracy: 0.8750 - val_loss: 1.5438 - val_accuracy: 0.7500\n"
          ],
          "name": "stdout"
        }
      ]
    },
    {
      "cell_type": "code",
      "metadata": {
        "id": "zV6lvoqBpmSf"
      },
      "source": [
        "import matplotlib.pyplot as plt\n",
        "\n",
        "def plot_accuracy_and_loss(history):\n",
        "    acc = history.history['accuracy']\n",
        "    val_acc = history.history['val_accuracy']\n",
        "    loss = history.history['loss']\n",
        "    val_loss = history.history['val_loss']\n",
        "\n",
        "    epochs = range(1, len(acc) + 1)\n",
        "\n",
        "    plt.plot(epochs, acc, 'bo', label='Training acc')\n",
        "    plt.plot(epochs, val_acc, 'b', label='Validation acc')\n",
        "    plt.title('Training and validation accuracy')\n",
        "    plt.legend()\n",
        "    plt.show()\n",
        "\n",
        "    plt.plot(epochs, loss, 'bo', label='Training loss')\n",
        "    plt.plot(epochs, val_loss, 'b', label='Validation loss')\n",
        "    plt.title('Training and validation loss')\n",
        "    plt.legend()\n",
        "    plt.show()"
      ],
      "execution_count": 29,
      "outputs": []
    },
    {
      "cell_type": "code",
      "metadata": {
        "id": "DubE3oiQpCLu",
        "colab": {
          "base_uri": "https://localhost:8080/",
          "height": 545
        },
        "outputId": "7f13d746-8fcd-464e-ae36-b4e8aafbe80c"
      },
      "source": [
        "plot_accuracy_and_loss(history)"
      ],
      "execution_count": 30,
      "outputs": [
        {
          "output_type": "display_data",
          "data": {
            "image/png": "[encoded data removed]",
            "text/plain": [
              "<Figure size 432x288 with 1 Axes>"
            ]
          },
          "metadata": {
            "tags": [],
            "needs_background": "light"
          }
        },
        {
          "output_type": "display_data",
          "data": {
            "image/png": "[encoded data removed]",
            "text/plain": [
              "<Figure size 432x288 with 1 Axes>"
            ]
          },
          "metadata": {
            "tags": [],
            "needs_background": "light"
          }
        }
      ]
    }
  ]
}